{
 "cells": [
  {
   "cell_type": "code",
   "execution_count": 2,
   "metadata": {},
   "outputs": [],
   "source": [
    "from Bio import SeqIO\n",
    "import numpy as np"
   ]
  },
  {
   "cell_type": "markdown",
   "metadata": {},
   "source": [
    "# helper functions"
   ]
  },
  {
   "cell_type": "code",
   "execution_count": 511,
   "metadata": {},
   "outputs": [],
   "source": [
    "def levenshtein(x, y, in_del_cost = 2, mismatch_cost = 1):\n",
    "    x = \"_\" + x\n",
    "    y = \"_\" + y\n",
    "    field = np.zeros((len(x), len(y)))\n",
    "    for i in range(len(x)):\n",
    "        field[i,0] = i * in_del_cost\n",
    "    for j in range(len(y)):\n",
    "        field[0,j] = j * in_del_cost\n",
    "    #print(\"Start:\")\n",
    "    #toString(x, y, field)\n",
    "\n",
    "    for j in range(len(y) - 1):\n",
    "        j = j + 1\n",
    "        for i in range(len(x) - 1):\n",
    "            i = i + 1\n",
    "            field[i,j] = min(field[i-1,j-1] + match_mismatch(x[i], y[j], match_score=0, mismatch_cost=mismatch_cost),\n",
    "            field[i -1, j] + in_del_cost,\n",
    "            field[i,j-1] + in_del_cost)\n",
    "    #print(\"Result:\")\n",
    "    #toString(x, y, field)\n",
    "    #return field\n",
    "    return field[len(x) - 1, len(y) - 1]\n",
    "\n",
    "def toString(x, y, field):\n",
    "    print(\"\\t\" + \"\\t\".join([str(k) for k in range(len(x))]))\n",
    "    print(\"\\t\" + \"\\t\".join(x))\n",
    "    for j in range(len(y)):\n",
    "        print(str(j) + \" \" + y[j] + \"\\t\" + \"\\t\".join([str(int(number)) for number in field[:,j]]))\n",
    "\n",
    "def match_mismatch(letter_x, letter_y, match_score, mismatch_cost):\n",
    "    if letter_x == letter_y:\n",
    "        return match_score\n",
    "    else:\n",
    "        return mismatch_cost\n",
    "\n",
    "def local_alignment(x, y, in_del_cost = -2, match_score = 3, mismatch_cost = -1, search_number = 0):\n",
    "    x = \"_\" + x\n",
    "    y = \"_\" + y\n",
    "    field = np.zeros((len(x), len(y)))\n",
    "    for i in range(len(x)):\n",
    "        field[i,0] = 0\n",
    "    for j in range(len(y)):\n",
    "        field[0,j] = 0\n",
    "    #print(\"Start:\")\n",
    "    #toString(x, y, field)\n",
    "\n",
    "    for j in range(len(y) - 1):\n",
    "        j = j + 1\n",
    "        for i in range(len(x) - 1):\n",
    "            i = i + 1\n",
    "            field[i,j] = max(field[i-1,j-1] + match_mismatch(x[i], y[j], match_score, mismatch_cost),\n",
    "                field[i -1, j] + in_del_cost,\n",
    "                field[i,j-1] + in_del_cost,\n",
    "                0)\n",
    "    #print(\"Result:\")\n",
    "    #toString(x, y, field)\n",
    "    return field\n",
    "    #count_search_number = 0\n",
    "    #for i in range(len(x)):\n",
    "    #    for j in range(len(y)):\n",
    "    #        if field[i,j] == search_number:\n",
    "    #            count_search_number += 1\n",
    "    #print(search_number,\" appeared \", count_search_number, \" times\")\n",
    "\n",
    "def backtrack(field, in_del_cost, mismatch_cost, s1, s2):\n",
    "    alignment = \"\"\n",
    "    # set index to lower right cell in cost matrix of pairwise alignment\n",
    "    x, y = field.shape[0] - 1, field.shape[1] - 1\n",
    "    while (x != 0) and (y != 0):\n",
    "        if (field[x, y] == field[x-1, y-1]) and (s1[x - 1] == s2[y - 1]): #s1[x - 1] == s2[y - 1] -> -1 here because original string is missing \"_\" in front (see levenshtein())\n",
    "            alignment = \"M\" + alignment\n",
    "            x, y = x-1, y-1\n",
    "        elif field[x, y] == field[x-1, y-1] + mismatch_cost:\n",
    "            alignment = \"X\" + alignment\n",
    "            x, y = x-1, y-1\n",
    "        elif field[x, y] == field[x-1, y] + in_del_cost:\n",
    "            alignment = \"D\" + alignment\n",
    "            x += -1\n",
    "        elif field[x, y] == field[x, y - 1] + in_del_cost:\n",
    "            alignment = \"I\" + alignment\n",
    "            y += -1\n",
    "    if x == 0:\n",
    "        while y != 0:\n",
    "            alignment = \"I\" + alignment\n",
    "            y += -1\n",
    "    else:\n",
    "        while x != 0:\n",
    "            alignment = \"D\" + alignment\n",
    "            x += -1\n",
    "    return alignment\n",
    "\n",
    "def backtrack_to_strings(backtrack, s1, s2):\n",
    "    new_s1, new_s2 = \"\", \"\"\n",
    "    for operation in backtrack[::-1]:\n",
    "        if operation == \"M\":\n",
    "            new_s1 += s1[-1]\n",
    "            new_s2 += s2[-1]\n",
    "            s1 = s1[:-1]\n",
    "            s2 = s2[:-1]\n",
    "        elif operation == \"I\":\n",
    "            new_s1 += \"_\"\n",
    "            new_s2 += s2[-1]\n",
    "            s2 = s2[:-1]\n",
    "        elif operation == \"D\":\n",
    "            new_s1 += s1[-1]\n",
    "            new_s2 += \"_\"\n",
    "            s1 = s1[:-1]\n",
    "    return \"_\" + new_s1[::-1], \"_\" + new_s2[::-1]\n",
    "\n",
    "class Operation:\n",
    "    def __init__(self, value, operation, predecessor):\n",
    "        self.value = value\n",
    "        self.operation = operation\n",
    "        self.predecessor = predecessor\n",
    "\n",
    "class Ppm:\n",
    "    def __init__(self, s1, vocab):\n",
    "        s1 = \"_\" + s1\n",
    "        self.seq = s1\n",
    "        self.vocab = vocab + \"_\"\n",
    "        self.aligned_seqs = 1\n",
    "        self.absolute_matrix = np.zeros((len(s1), len(self.vocab)))\n",
    "        for index_string in range(len(s1)):\n",
    "            for index_vocab in range(len(self.vocab)):\n",
    "                if s1[index_string] == self.vocab[index_vocab]:\n",
    "                    self.absolute_matrix[index_string, index_vocab] += 1\n",
    "        self.probability_matrix = self.absolute_matrix.copy()\n",
    "    \n",
    "    def toString(self):\n",
    "        print(\"\\t\" + \"\\t\".join([str(k) for k in range(len(self.seq))]))\n",
    "        print(\"\\t\" + \"\\t\".join(self.seq))\n",
    "        for j in range(len(self.vocab)):\n",
    "            print(str(j) + \" \" + self.vocab[j] + \"\\t\" + \"\\t\".join([str(number / self.aligned_seqs)[:4] for number  in self.absolute_matrix[:,j]]))\n",
    "\n",
    "    def align_matrix_to_string(self, align_matrix):\n",
    "        for y in range(align_matrix.shape[1]):\n",
    "            print(\"\\t\".join([str(elem.value) for elem in align_matrix[:,y]]))\n",
    "\n",
    "    def cost(self, c1, c2, in_del_cost, mismatch_cost):\n",
    "        if c1 == c2:\n",
    "            return 0\n",
    "        elif (c1 == \"_\") or (c2 == \"_\"):\n",
    "            return in_del_cost\n",
    "        else:\n",
    "            return mismatch_cost\n",
    "\n",
    "    def cost_of_alignment_to_ppm(self, c, ppm_pos, in_del_cost, mismatch_cost):\n",
    "        col = self.probability_matrix[ppm_pos,:]\n",
    "        current_cost = 0\n",
    "        for AA_index in range(len(self.vocab)):\n",
    "            AA = self.vocab[AA_index]\n",
    "            current_cost += self.cost(c, AA, in_del_cost, mismatch_cost) * col[AA_index]\n",
    "        return current_cost\n",
    "\n",
    "    def backtrack_seq_to_ppm(self, align_matrix):\n",
    "        alignment_string = \"\"\n",
    "        op = align_matrix[align_matrix.shape[0] - 1, align_matrix.shape[1] - 1]\n",
    "        while op.predecessor is not None:\n",
    "            alignment_string = op.operation + alignment_string\n",
    "            op = op.predecessor\n",
    "        return alignment_string\n",
    "\n",
    "    def align(self, s2, mismatch_cost, in_del_cost):\n",
    "        s2 = \"_\" + s2\n",
    "        align_matrix = np.ndarray((len(self.seq), len(s2)), dtype=Operation)\n",
    "        for y in range(len(s2)):\n",
    "            for x in range(len(self.seq)):\n",
    "                if y == 0:\n",
    "                    if x == 0:\n",
    "                        align_matrix[x, y] = Operation(0 , \"\", None)\n",
    "                    else:\n",
    "                        align_matrix[x, y] = Operation(align_matrix[x - 1, y].value + self.cost_of_alignment_to_ppm(\"_\", x, in_del_cost, mismatch_cost), \"D\", align_matrix[x - 1, y])\n",
    "                elif x == 0:\n",
    "                    align_matrix[x, y] = Operation(align_matrix[x, y - 1].value + in_del_cost, \"I\", align_matrix[x, y-1])\n",
    "                else:\n",
    "                    insertion = Operation(align_matrix[x, y - 1].value + in_del_cost, \"I\", align_matrix[x, y - 1])\n",
    "                    deletion = Operation(align_matrix[x - 1, y].value + self.cost_of_alignment_to_ppm(\"_\", x, in_del_cost, mismatch_cost), \"D\", align_matrix[x - 1, y])\n",
    "                    match_mismatch = Operation(align_matrix[x - 1, y - 1].value + self.cost_of_alignment_to_ppm(s2[y], x, in_del_cost, mismatch_cost), \"M\", align_matrix[x-1, y-1])\n",
    "                    if (match_mismatch.value < deletion.value) and (match_mismatch.value < insertion.value):\n",
    "                        align_matrix[x, y] = match_mismatch\n",
    "                    elif deletion.value < insertion.value:\n",
    "                        align_matrix[x, y] = deletion\n",
    "                    else:\n",
    "                        align_matrix[x, y] = insertion\n",
    "        #self.align_matrix_to_string(align_matrix)\n",
    "        return align_matrix\n",
    "\n",
    "    def add(self, s2, mismatch_cost, in_del_cost):\n",
    "        align_matrix = self.align(s2, mismatch_cost=mismatch_cost, in_del_cost=in_del_cost)\n",
    "        backtrack_operations = self.backtrack_seq_to_ppm(align_matrix)\n",
    "        #print(\"Backtrack operations: \", backtrack_operations)\n",
    "        #print(\"len(backtrack_operations): \", len(backtrack_operations))\n",
    "        s1_aligned, s2_aligned = backtrack_to_strings(backtrack_operations, self.seq, s2)\n",
    "        self.seq = s1_aligned\n",
    "        new_absolute_matrix = np.zeros((len(s1_aligned), len(self.vocab)))\n",
    "\n",
    "        #print(s1_aligned)\n",
    "        #print(s2_aligned)\n",
    "        new_absolute_matrix[0,:] = self.absolute_matrix[0,:]\n",
    "        new_absolute_matrix[0, -1] += 1\n",
    "        index_without_insertions = 1\n",
    "\n",
    "        for e in range(1, len(backtrack_operations) + 1):\n",
    "            op = backtrack_operations[e - 1]\n",
    "            if (op == \"M\") or (op == \"D\"):\n",
    "                new_absolute_matrix[e,:] = self.absolute_matrix[index_without_insertions,:]\n",
    "                new_absolute_matrix[e,self.vocab.index(s2_aligned[e])] += 1\n",
    "                index_without_insertions += 1\n",
    "            elif op == \"I\":\n",
    "                new_absolute_matrix[e,self.vocab.index(s2_aligned[e])] = 1\n",
    "                new_absolute_matrix[e,self.vocab.index(\"_\")] = self.aligned_seqs\n",
    "        \n",
    "        self.absolute_matrix = new_absolute_matrix\n",
    "        self.aligned_seqs += 1\n",
    "        self.probability_matrix = self.absolute_matrix / self.aligned_seqs\n",
    "\n",
    "    def compute_alignment_cost(self, s2, mismatch_cost, in_del_cost):\n",
    "        align_matrix = self.align(s2, mismatch_cost=mismatch_cost, in_del_cost=in_del_cost)\n",
    "        return align_matrix[align_matrix.shape[0]-1, align_matrix.shape[1]-1].value\n",
    "\n",
    "    "
   ]
  },
  {
   "cell_type": "markdown",
   "metadata": {},
   "source": [
    "# parse fasta"
   ]
  },
  {
   "cell_type": "code",
   "execution_count": 512,
   "metadata": {},
   "outputs": [
    {
     "name": "stdout",
     "output_type": "stream",
     "text": [
      "sp|P06778|RAD52_YEAST\n",
      "sp|P43351|RAD52_HUMAN\n",
      "sp|P43352|RAD52_MOUSE\n",
      "sp|P41768|RAD52_KLULA\n",
      "sp|Q6FSW2|RAD52_CANGA\n",
      "sp|Q756F4|RAD52_ASHGO\n",
      "sp|P39022|RAD52_CHICK\n"
     ]
    }
   ],
   "source": [
    "records = []\n",
    "for record in SeqIO.parse(\"data/rad52.fasta\", \"fasta\"):\n",
    "    print(record.id)\n",
    "    records.append(record)\n",
    "\n",
    "concat_sequences = \"\".join([str(record.seq) for record in records])\n",
    "vocabulary = ''.join(set(concat_sequences))\n",
    "\n",
    "first_seq = str(records[0].seq[:10])\n",
    "second_seq = str(records[1].seq[:10])\n",
    "\n",
    "#levenshtein(first_seq, first_seq)"
   ]
  },
  {
   "cell_type": "markdown",
   "metadata": {},
   "source": [
    "# create multiple sequence alignment (center star)"
   ]
  },
  {
   "cell_type": "markdown",
   "metadata": {},
   "source": [
    "## find center string"
   ]
  },
  {
   "cell_type": "code",
   "execution_count": 513,
   "metadata": {},
   "outputs": [],
   "source": [
    "def find_center_string(records, in_del_cost=2, mismatch_cost=1):\n",
    "    pairwise_distance = {}\n",
    "    for e in range(len(records)):\n",
    "        for i in range(e, len(records)):\n",
    "            if e == i:\n",
    "                pass\n",
    "            else:\n",
    "                pairwise_distance[(e,i)] = levenshtein(str(records[e].seq), str(records[i].seq), in_del_cost=in_del_cost, mismatch_cost=mismatch_cost)\n",
    "    center_pair = min(pairwise_distance, key=pairwise_distance.get)\n",
    "    return center_pair\n",
    "\n",
    "center_pair = find_center_string(records, in_del_cost=2, mismatch_cost=1)"
   ]
  },
  {
   "cell_type": "code",
   "execution_count": 514,
   "metadata": {},
   "outputs": [
    {
     "data": {
      "text/plain": [
       "(1, 2)"
      ]
     },
     "execution_count": 514,
     "metadata": {},
     "output_type": "execute_result"
    }
   ],
   "source": [
    "center_pair"
   ]
  },
  {
   "cell_type": "markdown",
   "metadata": {},
   "source": [
    "## create PPM"
   ]
  },
  {
   "cell_type": "code",
   "execution_count": 515,
   "metadata": {},
   "outputs": [],
   "source": [
    "s1 = records.pop(center_pair[0])\n",
    "s2 = records.pop(center_pair[1])\n",
    "\n",
    "\n",
    "mismatch_cost = 1\n",
    "in_del_cost = 2\n",
    "\n",
    "\n",
    "my_ppm = Ppm(s1, vocabulary)\n",
    "my_ppm.add(s2, mismatch_cost=mismatch_cost, in_del_cost=in_del_cost)"
   ]
  },
  {
   "cell_type": "markdown",
   "metadata": {},
   "source": [
    "## iteration"
   ]
  },
  {
   "cell_type": "code",
   "execution_count": 516,
   "metadata": {},
   "outputs": [],
   "source": [
    "while len(records) > 0:\n",
    "    pairwise_distance = {}\n",
    "    for e in range(len(records)):\n",
    "        pairwise_distance[e] = my_ppm.compute_alignment_cost(str(records[e].seq), mismatch_cost=mismatch_cost, in_del_cost=in_del_cost)\n",
    "    best_string_index = min(pairwise_distance, key=pairwise_distance.get)\n",
    "    my_ppm.add(records.pop(best_string_index), mismatch_cost=mismatch_cost, in_del_cost=in_del_cost)\n"
   ]
  },
  {
   "cell_type": "markdown",
   "metadata": {},
   "source": [
    "# Plots"
   ]
  },
  {
   "cell_type": "code",
   "execution_count": 549,
   "metadata": {},
   "outputs": [
    {
     "data": {
      "text/plain": [
       "[<matplotlib.lines.Line2D at 0x16e9575e0>]"
      ]
     },
     "execution_count": 549,
     "metadata": {},
     "output_type": "execute_result"
    },
    {
     "data": {
      "image/png": "[encoded data removed]",
      "text/plain": [
       "<Figure size 432x288 with 1 Axes>"
      ]
     },
     "metadata": {
      "needs_background": "light"
     },
     "output_type": "display_data"
    }
   ],
   "source": [
    "y = [np.max(my_ppm.probability_matrix[e,:-1]) for e in range(my_ppm.probability_matrix.shape[0])]\n",
    "\n",
    "import matplotlib.pyplot as plt\n",
    "\n",
    "plt.plot(y)"
   ]
  },
  {
   "cell_type": "code",
   "execution_count": 552,
   "metadata": {},
   "outputs": [
    {
     "data": {
      "image/png": "[encoded data removed]",
      "text/plain": [
       "<Figure size 1440x216 with 2 Axes>"
      ]
     },
     "metadata": {
      "needs_background": "light"
     },
     "output_type": "display_data"
    }
   ],
   "source": [
    "import pandas as pd\n",
    "plt.figure(figsize=(20,3))\n",
    "xticks = np.arange(0, my_ppm.probability_matrix.shape[0], 50)\n",
    "df = pd.DataFrame({\"max conservation\": y}).transpose()\n",
    "ax = sns.heatmap(df, cmap=sns.cm.rocket_r)\n",
    "ax.set_xticks(xticks)\n",
    "ax.set_xticklabels(xticks)\n",
    "plt.show()"
   ]
  },
  {
   "cell_type": "code",
   "execution_count": 551,
   "metadata": {},
   "outputs": [
    {
     "data": {
      "text/plain": [
       "[Text(0, 0, '0'),\n",
       " Text(50, 0, '50'),\n",
       " Text(100, 0, '100'),\n",
       " Text(150, 0, '150'),\n",
       " Text(200, 0, '200'),\n",
       " Text(250, 0, '250'),\n",
       " Text(300, 0, '300'),\n",
       " Text(350, 0, '350'),\n",
       " Text(400, 0, '400'),\n",
       " Text(450, 0, '450'),\n",
       " Text(500, 0, '500')]"
      ]
     },
     "execution_count": 551,
     "metadata": {},
     "output_type": "execute_result"
    },
    {
     "data": {
      "image/png": "[encoded data removed]",
      "text/plain": [
       "<Figure size 1440x720 with 2 Axes>"
      ]
     },
     "metadata": {
      "needs_background": "light"
     },
     "output_type": "display_data"
    }
   ],
   "source": [
    "import seaborn as sns\n",
    "plt.figure(figsize=(20,10))\n",
    "xticks = np.arange(0, my_ppm.probability_matrix.shape[0], 50)\n",
    "ax = sns.heatmap(my_ppm.probability_matrix[:,:-1].T, yticklabels=my_ppm.vocab[:-1], cmap=sns.cm.rocket_r)\n",
    "ax.set_xticks(xticks)\n",
    "ax.set_xticklabels(xticks)"
   ]
  },
  {
   "cell_type": "code",
   "execution_count": null,
   "metadata": {},
   "outputs": [],
   "source": []
  }
 ],
 "metadata": {
  "interpreter": {
   "hash": "071f83251836d5bb3918d2af6501aef1a588d685a567aa45f470f25864dd9495"
  },
  "kernelspec": {
   "display_name": "Python 3.9.12 ('pytorch')",
   "language": "python",
   "name": "python3"
  },
  "language_info": {
   "codemirror_mode": {
    "name": "ipython",
    "version": 3
   },
   "file_extension": ".py",
   "mimetype": "text/x-python",
   "name": "python",
   "nbconvert_exporter": "python",
   "pygments_lexer": "ipython3",
   "version": "3.9.12"
  },
  "orig_nbformat": 4
 },
 "nbformat": 4,
 "nbformat_minor": 2
}
